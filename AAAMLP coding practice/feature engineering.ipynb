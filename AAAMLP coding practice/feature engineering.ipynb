{
 "cells": [
  {
   "cell_type": "code",
   "execution_count": 2,
   "id": "57b5860a-b52a-4f10-8447-68f0e957be7d",
   "metadata": {},
   "outputs": [
    {
     "ename": "NameError",
     "evalue": "name 'df' is not defined",
     "output_type": "error",
     "traceback": [
      "\u001b[1;31m---------------------------------------------------------------------------\u001b[0m",
      "\u001b[1;31mNameError\u001b[0m                                 Traceback (most recent call last)",
      "Cell \u001b[1;32mIn[2], line 1\u001b[0m\n\u001b[1;32m----> 1\u001b[0m df\u001b[38;5;241m.\u001b[39mloc[:, \u001b[38;5;124m'\u001b[39m\u001b[38;5;124myear\u001b[39m\u001b[38;5;124m'\u001b[39m] \u001b[38;5;241m=\u001b[39m \u001b[43mdf\u001b[49m[\u001b[38;5;124m'\u001b[39m\u001b[38;5;124mdatetime_column\u001b[39m\u001b[38;5;124m'\u001b[39m]\u001b[38;5;241m.\u001b[39mdt\u001b[38;5;241m.\u001b[39myear\n\u001b[0;32m      2\u001b[0m df\u001b[38;5;241m.\u001b[39mloc[:, \u001b[38;5;124m'\u001b[39m\u001b[38;5;124mweekofyear\u001b[39m\u001b[38;5;124m'\u001b[39m] \u001b[38;5;241m=\u001b[39m df[\u001b[38;5;124m'\u001b[39m\u001b[38;5;124mdatetime_column\u001b[39m\u001b[38;5;124m'\u001b[39m]\u001b[38;5;241m.\u001b[39mdt\u001b[38;5;241m.\u001b[39mweekofyear\n\u001b[0;32m      3\u001b[0m df\u001b[38;5;241m.\u001b[39mloc[:, \u001b[38;5;124m'\u001b[39m\u001b[38;5;124mmonth\u001b[39m\u001b[38;5;124m'\u001b[39m] \u001b[38;5;241m=\u001b[39m df[\u001b[38;5;124m'\u001b[39m\u001b[38;5;124mdatetime_column\u001b[39m\u001b[38;5;124m'\u001b[39m]\u001b[38;5;241m.\u001b[39mdt\u001b[38;5;241m.\u001b[39mmonth\n",
      "\u001b[1;31mNameError\u001b[0m: name 'df' is not defined"
     ]
    }
   ],
   "source": [
    "df.loc[:, 'year'] = df['datetime_column'].dt.year\n",
    "df.loc[:, 'weekofyear'] = df['datetime_column'].dt.weekofyear\n",
    "df.loc[:, 'month'] = df['datetime_column'].dt.month\n",
    "df.loc[:, 'dayofweek'] = df['datetime_column'].dt.dayofweek\n",
    "df.loc[:, 'weekend'] = (df.datetime_column.dt.weekday >=5).astype(int)\n",
    "df.loc[:, 'hour'] = df['datetime_column'].dt.hour"
   ]
  },
  {
   "cell_type": "code",
   "execution_count": 3,
   "id": "02caaf4e-b43b-4521-843c-0c6c141231e6",
   "metadata": {},
   "outputs": [
    {
     "name": "stderr",
     "output_type": "stream",
     "text": [
      "C:\\Users\\Willi\\AppData\\Local\\Temp\\ipykernel_10988\\2194283564.py:3: FutureWarning: 'H' is deprecated and will be removed in a future version, please use 'h' instead.\n",
      "  s = pd.date_range('2020-01-06', '2020-01-10', freq='10H').to_series()\n"
     ]
    },
    {
     "ename": "AttributeError",
     "evalue": "'DatetimeProperties' object has no attribute 'weekofyear'",
     "output_type": "error",
     "traceback": [
      "\u001b[1;31m---------------------------------------------------------------------------\u001b[0m",
      "\u001b[1;31mAttributeError\u001b[0m                            Traceback (most recent call last)",
      "Cell \u001b[1;32mIn[3], line 11\u001b[0m\n\u001b[0;32m      3\u001b[0m s \u001b[38;5;241m=\u001b[39m pd\u001b[38;5;241m.\u001b[39mdate_range(\u001b[38;5;124m'\u001b[39m\u001b[38;5;124m2020-01-06\u001b[39m\u001b[38;5;124m'\u001b[39m, \u001b[38;5;124m'\u001b[39m\u001b[38;5;124m2020-01-10\u001b[39m\u001b[38;5;124m'\u001b[39m, freq\u001b[38;5;241m=\u001b[39m\u001b[38;5;124m'\u001b[39m\u001b[38;5;124m10H\u001b[39m\u001b[38;5;124m'\u001b[39m)\u001b[38;5;241m.\u001b[39mto_series()\n\u001b[0;32m      4\u001b[0m \u001b[38;5;66;03m# create some features based on datetime\u001b[39;00m\n\u001b[0;32m      5\u001b[0m features \u001b[38;5;241m=\u001b[39m {\n\u001b[0;32m      6\u001b[0m  \u001b[38;5;124m\"\u001b[39m\u001b[38;5;124mdayofweek\u001b[39m\u001b[38;5;124m\"\u001b[39m: s\u001b[38;5;241m.\u001b[39mdt\u001b[38;5;241m.\u001b[39mdayofweek\u001b[38;5;241m.\u001b[39mvalues,\n\u001b[0;32m      7\u001b[0m  \u001b[38;5;124m\"\u001b[39m\u001b[38;5;124mdayofyear\u001b[39m\u001b[38;5;124m\"\u001b[39m: s\u001b[38;5;241m.\u001b[39mdt\u001b[38;5;241m.\u001b[39mdayofyear\u001b[38;5;241m.\u001b[39mvalues,\n\u001b[0;32m      8\u001b[0m  \u001b[38;5;124m\"\u001b[39m\u001b[38;5;124mhour\u001b[39m\u001b[38;5;124m\"\u001b[39m: s\u001b[38;5;241m.\u001b[39mdt\u001b[38;5;241m.\u001b[39mhour\u001b[38;5;241m.\u001b[39mvalues,\n\u001b[0;32m      9\u001b[0m  \u001b[38;5;124m\"\u001b[39m\u001b[38;5;124mis_leap_year\u001b[39m\u001b[38;5;124m\"\u001b[39m: s\u001b[38;5;241m.\u001b[39mdt\u001b[38;5;241m.\u001b[39mis_leap_year\u001b[38;5;241m.\u001b[39mvalues,\n\u001b[0;32m     10\u001b[0m  \u001b[38;5;124m\"\u001b[39m\u001b[38;5;124mquarter\u001b[39m\u001b[38;5;124m\"\u001b[39m: s\u001b[38;5;241m.\u001b[39mdt\u001b[38;5;241m.\u001b[39mquarter\u001b[38;5;241m.\u001b[39mvalues,\n\u001b[1;32m---> 11\u001b[0m  \u001b[38;5;124m\"\u001b[39m\u001b[38;5;124mweekofyear\u001b[39m\u001b[38;5;124m\"\u001b[39m: \u001b[43ms\u001b[49m\u001b[38;5;241;43m.\u001b[39;49m\u001b[43mdt\u001b[49m\u001b[38;5;241;43m.\u001b[39;49m\u001b[43mweekofyear\u001b[49m\u001b[38;5;241m.\u001b[39mvalues\n\u001b[0;32m     12\u001b[0m }\n",
      "\u001b[1;31mAttributeError\u001b[0m: 'DatetimeProperties' object has no attribute 'weekofyear'"
     ]
    }
   ],
   "source": [
    "import pandas as pd\n",
    "# create a series of datetime with a frequency of 10 hours\n",
    "s = pd.date_range('2020-01-06', '2020-01-10', freq='10H').to_series()\n",
    "# create some features based on datetime\n",
    "features = {\n",
    " \"dayofweek\": s.dt.dayofweek.values,\n",
    " \"dayofyear\": s.dt.dayofyear.values,\n",
    " \"hour\": s.dt.hour.values,\n",
    " \"is_leap_year\": s.dt.is_leap_year.values,\n",
    " \"quarter\": s.dt.quarter.values,\n",
    " \"weekofyear\": s.dt.weekofyear.values\n",
    "}"
   ]
  },
  {
   "cell_type": "code",
   "execution_count": 4,
   "id": "45dcda29-34e8-4713-917c-bc3a53a5173c",
   "metadata": {},
   "outputs": [],
   "source": [
    "def generate_features(df):\n",
    " # create a bunch of features using the date column\n",
    " df.loc[:, 'year'] = df['date'].dt.year\n",
    " df.loc[:, 'weekofyear'] = df['date'].dt.weekofyear\n",
    " df.loc[:, 'month'] = df['date'].dt.month\n",
    " df.loc[:, 'dayofweek'] = df['date'].dt.dayofweek\n",
    " df.loc[:, 'weekend'] = (df['date'].dt.weekday >=5).astype(int)\n",
    "\n",
    " # create an aggregate dictionary\n",
    " aggs = {}\n",
    " # for aggregation by month, we calculate the\n",
    " # number of unique month values and also the mean\n",
    " aggs['month'] = ['nunique', 'mean']\n",
    " aggs['weekofyear'] = ['nunique', 'mean']\n",
    " # we aggregate by num1 and calculate sum, max, min\n",
    " # and mean values of this column\n",
    " aggs['num1'] = ['sum','max','min','mean']\n",
    " # for customer_id, we calculate the total count\n",
    " aggs['customer_id'] = ['size']\n",
    " # again for customer_id, we calculate the total unique\n",
    " aggs['customer_id'] = ['nunique']\n",
    "\n",
    " # we group by customer_id and calculate the aggregates\n",
    " agg_df = df.groupby('customer_id').agg(aggs)\n",
    " agg_df = agg_df.reset_index()\n",
    " return agg_df"
   ]
  },
  {
   "cell_type": "code",
   "execution_count": 6,
   "id": "24402adc-7d16-4b92-8680-4425c7a19e3a",
   "metadata": {},
   "outputs": [
    {
     "ename": "NameError",
     "evalue": "name 'x' is not defined",
     "output_type": "error",
     "traceback": [
      "\u001b[1;31m---------------------------------------------------------------------------\u001b[0m",
      "\u001b[1;31mNameError\u001b[0m                                 Traceback (most recent call last)",
      "Cell \u001b[1;32mIn[6], line 4\u001b[0m\n\u001b[0;32m      2\u001b[0m feature_dict \u001b[38;5;241m=\u001b[39m {}\n\u001b[0;32m      3\u001b[0m \u001b[38;5;66;03m# calculate mean\u001b[39;00m\n\u001b[1;32m----> 4\u001b[0m feature_dict[\u001b[38;5;124m'\u001b[39m\u001b[38;5;124mmean\u001b[39m\u001b[38;5;124m'\u001b[39m] \u001b[38;5;241m=\u001b[39m np\u001b[38;5;241m.\u001b[39mmean(\u001b[43mx\u001b[49m)\n\u001b[0;32m      5\u001b[0m \u001b[38;5;66;03m# calculate max\u001b[39;00m\n\u001b[0;32m      6\u001b[0m feature_dict[\u001b[38;5;124m'\u001b[39m\u001b[38;5;124mmax\u001b[39m\u001b[38;5;124m'\u001b[39m] \u001b[38;5;241m=\u001b[39m np\u001b[38;5;241m.\u001b[39mmax(x)\n",
      "\u001b[1;31mNameError\u001b[0m: name 'x' is not defined"
     ]
    }
   ],
   "source": [
    "import numpy as np\n",
    "feature_dict = {}\n",
    "# calculate mean\n",
    "feature_dict['mean'] = np.mean(x)\n",
    "# calculate max\n",
    "feature_dict['max'] = np.max(x)\n",
    "# calculate min\n",
    "feature_dict['min'] = np.min(x)\n",
    "# calculate standard deviation\n",
    "feature_dict['std'] = np.std(x)\n",
    "# calculate variance\n",
    "feature_dict['var'] = np.var(x)\n",
    "# peak-to-peak\n",
    "feature_dict['ptp'] = np.ptp(x)\n",
    "# percentile features\n",
    "feature_dict['percentile_10'] = np.percentile(x, 10)\n",
    "feature_dict['percentile_60'] = np.percentile(x, 60)\n",
    "feature_dict['percentile_90'] = np.percentile(x, 90)\n",
    "# quantile features\n",
    "feature_dict['quantile_5'] = np.quantile(x, 0.05)\n",
    "feature_dict['quantile_95'] = np.quantile(x, 0.95)\n",
    "feature_dict['quantile_99'] = np.quantile(x, 0.99)"
   ]
  },
  {
   "cell_type": "code",
   "execution_count": 8,
   "id": "4aa97666-f24b-472b-af6f-b36b35086cd7",
   "metadata": {},
   "outputs": [],
   "source": [
    "import numpy as np\n",
    "# generate a random dataframe with\n",
    "# 2 columns and 100 rows\n",
    "df = pd.DataFrame(\n",
    " np.random.rand(100, 2),\n",
    " columns=[f\"f_{i}\" for i in range(1, 3)]\n",
    ")"
   ]
  },
  {
   "cell_type": "code",
   "execution_count": 9,
   "id": "ad0bbe07-9223-4b58-b787-a5214dd31c75",
   "metadata": {},
   "outputs": [],
   "source": [
    "from sklearn import preprocessing\n",
    "# initialize polynomial features class object\n",
    "# for two-degree polynomial features\n",
    "pf = preprocessing.PolynomialFeatures(\n",
    " degree=2,\n",
    " interaction_only=False,\n",
    " include_bias=False\n",
    ")\n",
    "# fit to the features\n",
    "pf.fit(df)\n",
    "# create polynomial features\n",
    "poly_feats = pf.transform(df)\n",
    "# create a dataframe with all the features\n",
    "num_feats = poly_feats.shape[1]\n",
    "df_transformed = pd.DataFrame(\n",
    " poly_feats,\n",
    " columns=[f\"f_{i}\" for i in range(1, num_feats + 1)]\n",
    ")"
   ]
  },
  {
   "cell_type": "code",
   "execution_count": 10,
   "id": "aa788521-2d89-4701-bda5-d6b9b0f74d00",
   "metadata": {},
   "outputs": [],
   "source": [
    "# create bins of the numerical columns\n",
    "# 10 bins\n",
    "df[\"f_bin_10\"] = pd.cut(df[\"f_1\"], bins=10, labels=False)\n",
    "# 100 bins\n",
    "df[\"f_bin_100\"] = pd.cut(df[\"f_1\"], bins=100, labels=False)"
   ]
  },
  {
   "cell_type": "code",
   "execution_count": null,
   "id": "a8d1697a-9166-47ea-95a5-963e7252c87e",
   "metadata": {},
   "outputs": [],
   "source": []
  }
 ],
 "metadata": {
  "kernelspec": {
   "display_name": "Python 3 (ipykernel)",
   "language": "python",
   "name": "python3"
  },
  "language_info": {
   "codemirror_mode": {
    "name": "ipython",
    "version": 3
   },
   "file_extension": ".py",
   "mimetype": "text/x-python",
   "name": "python",
   "nbconvert_exporter": "python",
   "pygments_lexer": "ipython3",
   "version": "3.12.2"
  }
 },
 "nbformat": 4,
 "nbformat_minor": 5
}

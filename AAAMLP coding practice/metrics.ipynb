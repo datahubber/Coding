{
 "cells": [
  {
   "cell_type": "code",
   "execution_count": 1,
   "id": "e3c3d274-4e76-4048-b870-7f57accfdbd0",
   "metadata": {},
   "outputs": [],
   "source": [
    "def accuracy(y_true, y_pred):\n",
    " \"\"\"\n",
    " Function to calculate accuracy\n",
    " :param y_true: list of true values\n",
    " :param y_pred: list of predicted values\n",
    " :return: accuracy score\n",
    " \"\"\"\n",
    " # initialize a simple counter for correct predictions\n",
    " correct_counter = 0\n",
    " # loop over all elements of y_true\n",
    " # and y_pred \"together\"\n",
    " for yt, yp in zip(y_true, y_pred):\n",
    "     if yt == yp:\n",
    " # if prediction is equal to truth, increase the counter\n",
    "         correct_counter += 1\n",
    " # return accuracy\n",
    " # which is correct predictions over the number of samples\n",
    " return correct_counter / len(y_true)"
   ]
  },
  {
   "cell_type": "code",
   "execution_count": 2,
   "id": "f0b333c4-6184-4de1-a109-4b7bb0789999",
   "metadata": {},
   "outputs": [
    {
     "data": {
      "text/plain": [
       "0.625"
      ]
     },
     "execution_count": 2,
     "metadata": {},
     "output_type": "execute_result"
    }
   ],
   "source": [
    "from sklearn import metrics\n",
    "l1 = [0,1,1,1,0,0,0,1]\n",
    "l2 = [0,1,0,1,0,1,0,0]\n",
    "metrics.accuracy_score(l1, l2)"
   ]
  },
  {
   "cell_type": "code",
   "execution_count": 3,
   "id": "78efbe2c-69e4-464e-a5dd-8bb170dfb56d",
   "metadata": {},
   "outputs": [],
   "source": [
    "def true_positive(y_true, y_pred):\n",
    " \"\"\"\n",
    " Function to calculate True Positives\n",
    " :param y_true: list of true values\n",
    " :param y_pred: list of predicted values\n",
    " :return: number of true positives\n",
    " \"\"\"\n",
    " # initialize\n",
    " tp = 0\n",
    " for yt, yp in zip(y_true, y_pred):\n",
    "     if yt == 1 and yp == 1:\n",
    "         tp += 1\n",
    " return tp\n",
    "def true_negative(y_true, y_pred):\n",
    " \"\"\"\n",
    " Function to calculate True Negatives\n",
    " :param y_true: list of true values\n",
    " :param y_pred: list of predicted values\n",
    " :return: number of true negatives\n",
    " \"\"\"\n",
    " # initialize\n",
    " tn = 0\n",
    " for yt, yp in zip(y_true, y_pred):\n",
    "     if yt == 0 and yp == 0:\n",
    "         tn += 1\n",
    " return tn\n",
    "def false_positive(y_true, y_pred):\n",
    " \"\"\"\n",
    " Function to calculate False Positives\n",
    " :param y_true: list of true values\n",
    " :param y_pred: list of predicted values\n",
    " :return: number of false positives\n",
    " \"\"\"\n",
    " # initialize\n",
    " fp = 0\n",
    " for yt, yp in zip(y_true, y_pred):\n",
    "     if yt == 0 and yp == 1:\n",
    "         fp += 1\n",
    " return fp\n",
    "def false_negative(y_true, y_pred):\n",
    " \"\"\"\n",
    " Function to calculate False Negatives\n",
    " :param y_true: list of true values\n",
    " :param y_pred: list of predicted values\n",
    " :return: number of false negatives\n",
    " \"\"\"\n",
    " # initialize\n",
    " fn = 0\n",
    " for yt, yp in zip(y_true, y_pred):\n",
    "    if yt == 1 and yp == 0:\n",
    "        fn += 1\n",
    " return fn"
   ]
  },
  {
   "cell_type": "code",
   "execution_count": 4,
   "id": "96c4728c-686d-4097-a8d8-c4d668f4e43b",
   "metadata": {},
   "outputs": [
    {
     "name": "stdout",
     "output_type": "stream",
     "text": [
      "2\n",
      "1\n",
      "2\n",
      "3\n"
     ]
    }
   ],
   "source": [
    "l1 = [0,1,1,1,0,0,0,1]\n",
    "l2 = [0,1,0,1,0,1,0,0]\n",
    "print(true_positive(l1, l2))\n",
    "print(false_positive(l1, l2))\n",
    "print(false_negative(l1, l2))\n",
    "print(true_negative(l1, l2))"
   ]
  },
  {
   "cell_type": "code",
   "execution_count": 5,
   "id": "287eea9a-2adb-451f-95ac-3267bbc3dccb",
   "metadata": {},
   "outputs": [],
   "source": [
    "def precision(y_true, y_pred):\n",
    " \"\"\"\n",
    " Function to calculate precision\n",
    " :param y_true: list of true values\n",
    " :param y_pred: list of predicted values\n",
    " :return: precision score\n",
    " \"\"\"\n",
    " tp = true_positive(y_true, y_pred)\n",
    " fp = false_positive(y_true, y_pred)\n",
    " precision = tp / (tp + fp)\n",
    " return precision"
   ]
  },
  {
   "cell_type": "code",
   "execution_count": 6,
   "id": "4efd5eaf-9846-4b97-b4f7-b3663caee81d",
   "metadata": {},
   "outputs": [
    {
     "data": {
      "text/plain": [
       "0.6666666666666666"
      ]
     },
     "execution_count": 6,
     "metadata": {},
     "output_type": "execute_result"
    }
   ],
   "source": [
    "l1 = [0,1,1,1,0,0,0,1]\n",
    "l2 = [0,1,0,1,0,1,0,0]\n",
    "\n",
    "precision(l1, l2)"
   ]
  },
  {
   "cell_type": "code",
   "execution_count": 7,
   "id": "091cd497-5e70-4f58-be7c-7265c6350030",
   "metadata": {},
   "outputs": [],
   "source": [
    "def recall(y_true, y_pred):\n",
    " \"\"\"\n",
    " Function to calculate recall\n",
    " :param y_true: list of true values\n",
    " :param y_pred: list of predicted values\n",
    " :return: recall score\n",
    " \"\"\"\n",
    " tp = true_positive(y_true, y_pred)\n",
    " fn = false_negative(y_true, y_pred)\n",
    " recall = tp / (tp + fn)\n",
    " return recall"
   ]
  },
  {
   "cell_type": "code",
   "execution_count": 8,
   "id": "0be43786-4d28-460f-9e52-95954aba7181",
   "metadata": {},
   "outputs": [
    {
     "data": {
      "text/plain": [
       "0.5"
      ]
     },
     "execution_count": 8,
     "metadata": {},
     "output_type": "execute_result"
    }
   ],
   "source": [
    "l1 = [0,1,1,1,0,0,0,1]\n",
    "l2 = [0,1,0,1,0,1,0,0]\n",
    "recall(l1, l2)"
   ]
  },
  {
   "cell_type": "code",
   "execution_count": 9,
   "id": "bc9f344a-8eef-4401-9d74-1ad600837ab5",
   "metadata": {},
   "outputs": [],
   "source": [
    "y_true = [0, 0, 0, 1, 0, 0, 0, 0, 0, 0, 1, 0, 0, 0, 0, 0, 0, 0, 1, 0]\n",
    "y_pred = [0.02638412, 0.11114267, 0.31620708, 0.0490937, 0.0191491, 0.17554844, 0.15952202, 0.03819563, 0.11639273,\n",
    "0.079377, 0.08584789, 0.39095342,\n",
    "0.27259048, 0.03447096, 0.04644807,\n",
    "0.03543574, 0.18521942, 0.05934905,\n",
    " 0.61977213, 0.33056815]"
   ]
  },
  {
   "cell_type": "code",
   "execution_count": 10,
   "id": "93353e6e-20b3-4e4e-8265-b0d4c9794e92",
   "metadata": {},
   "outputs": [],
   "source": [
    "precisions = []\n",
    "recalls = []\n",
    "# how we assumed these thresholds is a long story\n",
    "thresholds = [0.0490937 , 0.05934905, 0.079377,\n",
    " 0.08584789, 0.11114267, 0.11639273,\n",
    " 0.15952202, 0.17554844, 0.18521942,\n",
    " 0.27259048, 0.31620708, 0.33056815,\n",
    " 0.39095342, 0.61977213]\n",
    "# for every threshold, calculate predictions in binary\n",
    "# and append calculated precisions and recalls\n",
    "# to their respective lists\n",
    "for i in thresholds:\n",
    " temp_prediction = [1 if x >= i else 0 for x in y_pred]\n",
    " p = precision(y_true, temp_prediction)\n",
    " r = recall(y_true, temp_prediction)\n",
    " precisions.append(p)\n",
    " recalls.append(r)"
   ]
  },
  {
   "cell_type": "code",
   "execution_count": 11,
   "id": "8c680855-05ec-49f9-b7c7-4a68ede6ed3d",
   "metadata": {},
   "outputs": [],
   "source": [
    "import matplotlib.pyplot as plt"
   ]
  },
  {
   "cell_type": "code",
   "execution_count": 12,
   "id": "3618f016-1b97-4f6b-aec8-5b6ce05c52a2",
   "metadata": {},
   "outputs": [
    {
     "data": {
      "text/plain": [
       "Text(0, 0.5, 'Precision')"
      ]
     },
     "execution_count": 12,
     "metadata": {},
     "output_type": "execute_result"
    },
    {
     "data": {
      "image/png": "[encoded data removed]",
      "text/plain": [
       "<Figure size 700x700 with 1 Axes>"
      ]
     },
     "metadata": {},
     "output_type": "display_data"
    }
   ],
   "source": [
    "plt.figure(figsize=(7, 7))\n",
    "plt.plot(recalls, precisions)\n",
    "plt.xlabel('Recall', fontsize=15)\n",
    "plt.ylabel('Precision', fontsize=15)"
   ]
  },
  {
   "cell_type": "code",
   "execution_count": 13,
   "id": "29480045-61d3-4238-a26e-a5dd3dbe16e8",
   "metadata": {},
   "outputs": [],
   "source": [
    "def f1(y_true, y_pred):\n",
    " \"\"\"\n",
    " Function to calculate f1 score\n",
    " :param y_true: list of true values\n",
    " :param y_pred: list of predicted values\n",
    " :return: f1 score\n",
    " \"\"\"\n",
    " p = precision(y_true, y_pred)\n",
    " r = recall(y_true, y_pred)\n",
    " score = 2 * p * r / (p + r)\n",
    " return score"
   ]
  },
  {
   "cell_type": "code",
   "execution_count": 14,
   "id": "25dc32ba-2b3b-40c4-8905-cde47e0235b7",
   "metadata": {},
   "outputs": [
    {
     "data": {
      "text/plain": [
       "0.5714285714285715"
      ]
     },
     "execution_count": 14,
     "metadata": {},
     "output_type": "execute_result"
    }
   ],
   "source": [
    "y_true = [0, 0, 0, 1, 0, 0, 0, 0, 0, 0,\n",
    "1, 0, 0, 0, 0, 0, 0, 0, 1, 0]\n",
    "42\n",
    "y_pred = [0, 0, 1, 0, 0, 0, 1, 0, 0, 0,\n",
    "1, 0, 0, 0, 0, 0, 0, 0, 1, 0]\n",
    "f1(y_true, y_pred)"
   ]
  },
  {
   "cell_type": "code",
   "execution_count": 15,
   "id": "416447fe-5830-42ec-a8c7-6df60a814aaa",
   "metadata": {},
   "outputs": [],
   "source": [
    "def tpr(y_true, y_pred):\n",
    " \"\"\"\n",
    " Function to calculate tpr\n",
    " :param y_true: list of true values\n",
    " :param y_pred: list of predicted values\n",
    " :return: tpr/recall\n",
    " \"\"\"\n",
    " return recall(y_true, y_pred)\n",
    "\n",
    "def fpr(y_true, y_pred):\n",
    " \"\"\"\n",
    " Function to calculate fpr\n",
    " :param y_true: list of true values\n",
    " :param y_pred: list of predicted values\n",
    " :return: fpr\n",
    " \"\"\"\n",
    " fp = false_positive(y_true, y_pred)\n",
    " tn = true_negative(y_true, y_pred)\n",
    " return fp / (tn + fp)\n"
   ]
  },
  {
   "cell_type": "code",
   "execution_count": 16,
   "id": "457b4f39-1af7-4d46-9f48-8ac485ebe4ba",
   "metadata": {},
   "outputs": [],
   "source": [
    "tpr_list = []\n",
    "fpr_list = []\n",
    "# actual targets\n",
    "y_true = [0, 0, 0, 0, 1, 0, 1,\n",
    " 0, 0, 1, 0, 1, 0, 0, 1]\n",
    "# predicted probabilities of a sample being 1\n",
    "y_pred = [0.1, 0.3, 0.2, 0.6, 0.8, 0.05,\n",
    " 0.9, 0.5, 0.3, 0.66, 0.3, 0.2,\n",
    " 0.85, 0.15, 0.99]\n",
    "# handmade thresholds\n",
    "thresholds = [0, 0.1, 0.2, 0.3, 0.4, 0.5,\n",
    " 0.6, 0.7, 0.8, 0.85, 0.9, 0.99, 1.0]\n",
    "# loop over all thresholds\n",
    "for thresh in thresholds:\n",
    " # calculate predictions for a given threshold\n",
    "     temp_pred = [1 if x >= thresh else 0 for x in y_pred]\n",
    " # calculate tpr\n",
    "     temp_tpr = tpr(y_true, temp_pred)\n",
    " # calculate fpr\n",
    "     temp_fpr = fpr(y_true, temp_pred)\n",
    " # append tpr and fpr to lists\n",
    "     tpr_list.append(temp_tpr)\n",
    "     fpr_list.append(temp_fpr)"
   ]
  },
  {
   "cell_type": "code",
   "execution_count": 17,
   "id": "76bf4f82-55a3-4895-a61c-a8bbca88cd8b",
   "metadata": {},
   "outputs": [
    {
     "data": {
      "image/png": "[encoded data removed]",
      "text/plain": [
       "<Figure size 700x700 with 1 Axes>"
      ]
     },
     "metadata": {},
     "output_type": "display_data"
    }
   ],
   "source": [
    "plt.figure(figsize=(7, 7))\n",
    "plt.fill_between(fpr_list, tpr_list, alpha=0.4)\n",
    "plt.plot(fpr_list, tpr_list, lw=3)\n",
    "plt.xlim(0, 1.0)\n",
    "plt.ylim(0, 1.0)\n",
    "plt.xlabel('FPR', fontsize=15)\n",
    "plt.ylabel('TPR', fontsize=15)\n",
    "plt.show()"
   ]
  },
  {
   "cell_type": "code",
   "execution_count": 18,
   "id": "3fb29294-ddda-4fe0-9199-9917bad652e9",
   "metadata": {},
   "outputs": [
    {
     "data": {
      "text/plain": [
       "0.8300000000000001"
      ]
     },
     "execution_count": 18,
     "metadata": {},
     "output_type": "execute_result"
    }
   ],
   "source": [
    "from sklearn import metrics\n",
    "y_true = [0, 0, 0, 0, 1, 0, 1,\n",
    "0, 0, 1, 0, 1, 0, 0, 1]\n",
    "y_pred = [0.1, 0.3, 0.2, 0.6, 0.8, 0.05,\n",
    "0.9, 0.5, 0.3, 0.66, 0.3, 0.2,\n",
    "0.85, 0.15, 0.99]\n",
    "metrics.roc_auc_score(y_true, y_pred)"
   ]
  },
  {
   "cell_type": "code",
   "execution_count": 19,
   "id": "dd0c6f15-f59a-4509-8c28-ad2dea84b2c0",
   "metadata": {},
   "outputs": [],
   "source": [
    "# empty lists to store true positive\n",
    "# and false positive values\n",
    "tp_list = []\n",
    "fp_list = []\n",
    "# actual targets\n",
    "y_true = [0, 0, 0, 0, 1, 0, 1,\n",
    " 0, 0, 1, 0, 1, 0, 0, 1]\n",
    "# predicted probabilities of a sample being 1\n",
    "y_pred = [0.1, 0.3, 0.2, 0.6, 0.8, 0.05,\n",
    " 0.9, 0.5, 0.3, 0.66, 0.3, 0.2,\n",
    " 0.85, 0.15, 0.99]\n",
    "# some handmade thresholds\n",
    "thresholds = [0, 0.1, 0.2, 0.3, 0.4, 0.5,\n",
    " 0.6, 0.7, 0.8, 0.85, 0.9, 0.99, 1.0]\n",
    "# loop over all thresholds\n",
    "for thresh in thresholds:\n",
    "# calculate predictions for a given threshold\n",
    "     temp_pred = [1 if x >= thresh else 0 for x in y_pred]\n",
    " # calculate tp\n",
    "     temp_tp = true_positive(y_true, temp_pred)\n",
    " # calculate fp\n",
    "     temp_fp = false_positive(y_true, temp_pred)\n",
    " # append tp and fp to lists\n",
    "     tp_list.append(temp_tp)\n",
    "     fp_list.append(temp_fp)"
   ]
  },
  {
   "cell_type": "code",
   "execution_count": 27,
   "id": "11f35bf8-5b6e-45c6-8156-927dbc25e5b1",
   "metadata": {},
   "outputs": [],
   "source": [
    "import numpy as np\n",
    "\n",
    "def log_loss(y_true, y_proba):\n",
    "    \"\"\"\n",
    "    Function to calculate log loss\n",
    "    :param y_true: list of true values\n",
    "    :param y_proba: list of probabilities for 1\n",
    "    :return: overall log loss\n",
    "    \"\"\"\n",
    "    # define an epsilon value\n",
    "    # this can also be an input\n",
    "    # this value is used to clip probabilities\n",
    "    epsilon = 1e-15\n",
    "    \n",
    "    # initialize empty list to store\n",
    "    # individual losses\n",
    "    loss = []\n",
    "\n",
    "    # Loop over all true and predicted probability values\n",
    "    for yt, yp in zip(y_true, y_proba):\n",
    "        # adjust probability\n",
    "        # 0 gets converted to 1e-15\n",
    "        # 1 gets converted to 1-1e-15\n",
    "        # Why? Think about it!\n",
    "        yp = np.clip(yp, epsilon, 1 - epsilon)\n",
    "        \n",
    "        # calculate loss for one sample\n",
    "        temp_loss = -1.0 * (\n",
    "            yt * np.log(yp) +\n",
    "            (1 - yt) * np.log(1 - yp)\n",
    "        )\n",
    "        \n",
    "        # add to Loss list\n",
    "        loss.append(temp_loss)\n",
    "    \n",
    "    # return mean Loss over all samples\n",
    "    return np.mean(loss)\n"
   ]
  },
  {
   "cell_type": "code",
   "execution_count": 28,
   "id": "eac14426-29e1-4b54-bdc4-e6b4ea017624",
   "metadata": {},
   "outputs": [
    {
     "data": {
      "text/plain": [
       "0.49882711861432294"
      ]
     },
     "execution_count": 28,
     "metadata": {},
     "output_type": "execute_result"
    }
   ],
   "source": [
    "y_true = [0, 0, 0, 0, 1, 0, 1,\n",
    "0, 0, 1, 0, 1, 0, 0, 1]\n",
    "y_proba = [0.1, 0.3, 0.2, 0.6, 0.8, 0.05,\n",
    "0.9, 0.5, 0.3, 0.66, 0.3, 0.2,\n",
    "0.85, 0.15, 0.99]\n",
    "log_loss(y_true, y_proba)"
   ]
  },
  {
   "cell_type": "code",
   "execution_count": 29,
   "id": "68147ad4-eb44-450a-85ce-6285dbf0bf83",
   "metadata": {},
   "outputs": [
    {
     "data": {
      "text/plain": [
       "0.49882711861432294"
      ]
     },
     "execution_count": 29,
     "metadata": {},
     "output_type": "execute_result"
    }
   ],
   "source": [
    "from sklearn import metrics\n",
    "metrics.log_loss(y_true, y_proba)"
   ]
  },
  {
   "cell_type": "code",
   "execution_count": 31,
   "id": "6ff2ee21-2d4d-4dc9-af09-0d3b3ea88f93",
   "metadata": {},
   "outputs": [],
   "source": [
    "import numpy as np\n",
    "def macro_precision(y_true, y_pred):\n",
    " \"\"\"\n",
    " Function to calculate macro averaged precision\n",
    " :param y_true: list of true values\n",
    " :param y_pred: list of predicted values\n",
    " :return: macro precision score\n",
    " \"\"\"\n",
    "\n",
    " # find the number of classes by taking\n",
    " # length of unique values in true list\n",
    " num_classes = len(np.unique(y_true))\n",
    "\n",
    " # initialize precision to 0\n",
    " precision = 0\n",
    "\n",
    " # loop over all classes\n",
    " for class_ in range(num_classes):\n",
    "\n",
    " # all classes except current are considered negative\n",
    "     temp_true = [1 if p == class_ else 0 for p in y_true]\n",
    "     temp_pred = [1 if p == class_ else 0 for p in y_pred]\n",
    "\n",
    " # calculate true positive for current class\n",
    "     tp = true_positive(temp_true, temp_pred)\n",
    "\n",
    " # calculate false positive for current class\n",
    "     fp = false_positive(temp_true, temp_pred)\n",
    "\n",
    " # calculate precision for current class\n",
    "     temp_precision = tp / (tp + fp)\n",
    "\n",
    " # keep adding precision for all classes\n",
    "     precision += temp_precision\n",
    " # calculate and return average precision over all classes\n",
    "     precision /= num_classes\n",
    " return precision"
   ]
  },
  {
   "cell_type": "code",
   "execution_count": 33,
   "id": "5f3a251f-2a4e-4820-9848-7892dbd31796",
   "metadata": {},
   "outputs": [],
   "source": [
    "import numpy as np\n",
    "def micro_precision(y_true, y_pred):\n",
    " \"\"\"\n",
    " Function to calculate micro averaged precision\n",
    " :param y_true: list of true values\n",
    " :param y_pred: list of predicted values\n",
    " :return: micro precision score\n",
    " \"\"\"\n",
    "\n",
    " # find the number of classes by taking\n",
    " # length of unique values in true list\n",
    " num_classes = len(np.unique(y_true))\n",
    "\n",
    " # initialize tp and fp to 0\n",
    " tp = 0\n",
    " fp = 0\n",
    "\n",
    " # loop over all classes\n",
    " for class_ in range(num_classes):\n",
    " # all classes except current are considered negative\n",
    "     temp_true = [1 if p == class_ else 0 for p in y_true]\n",
    "     temp_pred = [1 if p == class_ else 0 for p in y_pred]\n",
    "\n",
    " # calculate true positive for current class\n",
    " # and update overall tp\n",
    "     tp += true_positive(temp_true, temp_pred)\n",
    "\n",
    " # calculate false positive for current class\n",
    " # and update overall tp\n",
    "     fp += false_positive(temp_true, temp_pred)\n",
    "\n",
    " # calculate and return overall precision\n",
    "     precision = tp / (tp + fp)\n",
    " return precision"
   ]
  },
  {
   "cell_type": "code",
   "execution_count": 37,
   "id": "9a804019-4d2f-490e-8d53-a82bb6b9d077",
   "metadata": {},
   "outputs": [],
   "source": [
    "from collections import Counter\n",
    "import numpy as np\n",
    "\n",
    "def true_positive(y_true, y_pred):\n",
    "    tp = 0\n",
    "    for yt, yp in zip(y_true, y_pred):\n",
    "        if yt == 1 and yp == 1:\n",
    "            tp += 1\n",
    "    return tp\n",
    "\n",
    "def false_positive(y_true, y_pred):\n",
    "    fp = 0\n",
    "    for yt, yp in zip(y_true, y_pred):\n",
    "        if yt == 0 and yp == 1:\n",
    "            fp += 1\n",
    "    return fp\n",
    "\n",
    "def weighted_precision(y_true, y_pred):\n",
    "    \"\"\"\n",
    "    Function to calculate weighted averaged precision\n",
    "    :param y_true: list of true values\n",
    "    :param y_pred: list of predicted values\n",
    "    :return: weighted precision score\n",
    "    \"\"\"\n",
    "\n",
    "    # find the number of classes by taking\n",
    "    # length of unique values in true list\n",
    "    num_classes = len(np.unique(y_true))\n",
    "\n",
    "    # create class:sample count dictionary\n",
    "    # it looks something like this:\n",
    "    # {0: 20, 1:15, 2:21}\n",
    "    class_counts = Counter(y_true)\n",
    "\n",
    "    # initialize precision to 0\n",
    "    precision = 0\n",
    "\n",
    "    # loop over all classes\n",
    "    for class_ in range(num_classes):\n",
    "        # all classes except current are considered negative\n",
    "        temp_true = [1 if p == class_ else 0 for p in y_true]\n",
    "        temp_pred = [1 if p == class_ else 0 for p in y_pred]\n",
    "\n",
    "        # calculate tp and fp for class\n",
    "        tp = true_positive(temp_true, temp_pred)\n",
    "        fp = false_positive(temp_true, temp_pred)\n",
    "\n",
    "        # calculate precision of class\n",
    "        temp_precision = tp / (tp + fp) if (tp + fp) > 0 else 0\n",
    "\n",
    "        # multiply precision with count of samples in class\n",
    "        weighted_precision = class_counts[class_] * temp_precision\n",
    "\n",
    "        # add to overall precision\n",
    "        precision += weighted_precision\n",
    "    \n",
    "    # calculate overall precision by dividing by\n",
    "    # total number of samples\n",
    "    overall_precision = precision / len(y_true)\n",
    "    return overall_precision\n"
   ]
  },
  {
   "cell_type": "code",
   "execution_count": 39,
   "id": "8a6cfe5c-4480-4242-898b-ec9b2cb336c2",
   "metadata": {},
   "outputs": [
    {
     "data": {
      "text/plain": [
       "0.39814814814814814"
      ]
     },
     "execution_count": 39,
     "metadata": {},
     "output_type": "execute_result"
    }
   ],
   "source": [
    "from sklearn import metrics\n",
    "y_true = [0, 1, 2, 0, 1, 2, 0, 2, 2]\n",
    "y_pred = [0, 2, 1, 0, 2, 1, 0, 0, 2]\n",
    "macro_precision(y_true, y_pred)\n",
    "metrics.precision_score(y_true, y_pred, average=\"macro\")\n",
    "micro_precision(y_true, y_pred)\n",
    "metrics.precision_score(y_true, y_pred, average=\"micro\")\n",
    "weighted_precision(y_true, y_pred)\n",
    "metrics.precision_score(y_true, y_pred, average=\"weighted\")"
   ]
  },
  {
   "cell_type": "code",
   "execution_count": 41,
   "id": "05e6aecb-eb98-4e72-b0c6-ce028728da45",
   "metadata": {},
   "outputs": [],
   "source": [
    "from collections import Counter\n",
    "import numpy as np\n",
    "def weighted_f1(y_true, y_pred):\n",
    " \"\"\"\n",
    " Function to calculate weighted f1 score\n",
    " :param y_true: list of true values\n",
    " :param y_proba: list of predicted values\n",
    " :return: weighted f1 score\n",
    " \"\"\"\n",
    "\n",
    " # find the number of classes by taking\n",
    " # length of unique values in true list\n",
    " num_classes = len(np.unique(y_true))\n",
    "\n",
    " # create class:sample count dictionary\n",
    " # it looks something like this:\n",
    " # {0: 20, 1:15, 2:21}\n",
    " class_counts = Counter(y_true)\n",
    "\n",
    " # initialize f1 to 0\n",
    " f1 = 0\n",
    "\n",
    " # loop over all classes\n",
    " for class_ in range(num_classes):\n",
    " # all classes except current are considered negative\n",
    "     temp_true = [1 if p == class_ else 0 for p in y_true]\n",
    "     temp_pred = [1 if p == class_ else 0 for p in y_pred]\n",
    "\n",
    " # calculate precision and recall for class\n",
    "     p = precision(temp_true, temp_pred)\n",
    "     r = recall(temp_true, temp_pred)\n",
    "\n",
    " # calculate f1 of class\n",
    "     if p + r != 0:\n",
    "         temp_f1 = 2 * p * r / (p + r)\n",
    "     else:\n",
    "         temp_f1 = 0\n",
    "\n",
    " # multiply f1 with count of samples in class\n",
    "     weighted_f1 = class_counts[class_] * temp_f1\n",
    "\n",
    " # add to f1 precision\n",
    "     f1 += weighted_f1\n",
    "     # calculate overall F1 by dividing by\n",
    " # total number of samples\n",
    "     overall_f1 = f1 / len(y_true)\n",
    " return overall_f1"
   ]
  },
  {
   "cell_type": "code",
   "execution_count": 42,
   "id": "710288a5-f8ab-45a7-8687-36774ee36ced",
   "metadata": {},
   "outputs": [
    {
     "data": {
      "text/plain": [
       "0.4126984126984127"
      ]
     },
     "execution_count": 42,
     "metadata": {},
     "output_type": "execute_result"
    }
   ],
   "source": [
    "from sklearn import metrics\n",
    "y_true = [0, 1, 2, 0, 1, 2, 0, 2, 2]\n",
    "y_pred = [0, 2, 1, 0, 2, 1, 0, 0, 2]\n",
    "weighted_f1(y_true, y_pred)\n",
    "metrics.f1_score(y_true, y_pred, average=\"weighted\")"
   ]
  },
  {
   "cell_type": "code",
   "execution_count": 43,
   "id": "f525b9cc-557b-4d48-a757-2338d62cee8f",
   "metadata": {},
   "outputs": [
    {
     "data": {
      "text/plain": [
       "Text(0.5, 57.249999999999986, 'Predicted Labels')"
      ]
     },
     "execution_count": 43,
     "metadata": {},
     "output_type": "execute_result"
    },
    {
     "data": {
      "image/png": "[encoded data removed]",
      "text/plain": [
       "<Figure size 1000x1000 with 1 Axes>"
      ]
     },
     "metadata": {},
     "output_type": "display_data"
    }
   ],
   "source": [
    "import matplotlib.pyplot as plt\n",
    "import seaborn as sns\n",
    "from sklearn import metrics\n",
    "# some targets\n",
    "y_true = [0, 1, 2, 0, 1, 2, 0, 2, 2]\n",
    "#some predictions\n",
    "y_pred = [0, 2, 1, 0, 2, 1, 0, 0, 2]\n",
    "# get confusion matrix from sklearn\n",
    "cm = metrics.confusion_matrix(y_true, y_pred)\n",
    "# plot using matplotlib and seaborn\n",
    "plt.figure(figsize=(10, 10))\n",
    "cmap = sns.cubehelix_palette(50, hue=0.05, rot=0, light=0.9, dark=0,\n",
    "as_cmap=True)\n",
    "sns.set(font_scale=2.5)\n",
    "sns.heatmap(cm, annot=True, cmap=cmap, cbar=False)\n",
    "plt.ylabel('Actual Labels', fontsize=20)\n",
    "plt.xlabel('Predicted Labels', fontsize=20)"
   ]
  },
  {
   "cell_type": "code",
   "execution_count": 47,
   "id": "f5fb6ec7-8485-4189-ad7c-b2a95883708a",
   "metadata": {},
   "outputs": [],
   "source": [
    "def pk(y_true, y_pred, k):\n",
    " \"\"\"\n",
    " This function calculates precision at k\n",
    " for a single sample\n",
    " :param y_true: list of values, actual classes\n",
    " :param y_pred: list of values, predicted classes\n",
    " :param k: the value for k\n",
    " :return: precision at a given value k\n",
    " \"\"\"\n",
    " # if k is 0, return 0. we should never have this\n",
    " # as k is always >= 1\n",
    " if k == 0:\n",
    "     return 0\n",
    " # we are interested only in top-k predictions\n",
    " y_pred = y_pred[:k]\n",
    " # convert predictions to set\n",
    " pred_set = set(y_pred)\n",
    " # convert actual values to set\n",
    " true_set = set(y_true)\n",
    " # find common values\n",
    " common_values = pred_set.intersection(true_set)\n",
    " # return length of common values over k\n",
    " return len(common_values) / len(y_pred[:k])"
   ]
  },
  {
   "cell_type": "code",
   "execution_count": 49,
   "id": "2669bbd9-afe3-4f80-a017-3aa7ec371c9a",
   "metadata": {},
   "outputs": [],
   "source": [
    "def apk(y_true, y_pred, k):\n",
    " \"\"\"\n",
    " This function calculates average precision at k\n",
    " for a single sample\n",
    " :param y_true: list of values, actual classes\n",
    " :param y_pred: list of values, predicted classes\n",
    " :return: average precision at a given value k\n",
    " \"\"\"\n",
    " # initialize p@k list of values\n",
    " pk_values = []\n",
    " # loop over all k. from 1 to k + 1\n",
    " for i in range(1, k + 1):\n",
    " # calculate p@i and append to list\n",
    "     pk_values.append(pk(y_true, y_pred, i))\n",
    " # if we have no values in the list, return 0\n",
    " if len(pk_values) == 0:\n",
    "     return 0\n",
    " # else, we return the sum of list over length of list\n",
    " return sum(pk_values) / len(pk_values)"
   ]
  },
  {
   "cell_type": "code",
   "execution_count": 61,
   "id": "15a11218-a68d-40ab-9006-29913c6618a2",
   "metadata": {},
   "outputs": [
    {
     "name": "stdout",
     "output_type": "stream",
     "text": [
      "\n",
      "y_true=[1, 2, 3],\n",
      "y_pred=[0, 1, 2],\n",
      "AP@1=0.0\n",
      "\n",
      "\n",
      "y_true=[1, 2, 3],\n",
      "y_pred=[0, 1, 2],\n",
      "AP@2=0.25\n",
      "\n",
      "\n",
      "y_true=[1, 2, 3],\n",
      "y_pred=[0, 1, 2],\n",
      "AP@3=0.38888888888888884\n",
      "\n",
      "\n",
      "y_true=[0, 2],\n",
      "y_pred=[1],\n",
      "AP@1=0.0\n",
      "\n",
      "\n",
      "y_true=[0, 2],\n",
      "y_pred=[1],\n",
      "AP@2=0.0\n",
      "\n",
      "\n",
      "y_true=[0, 2],\n",
      "y_pred=[1],\n",
      "AP@3=0.0\n",
      "\n",
      "\n",
      "y_true=[1],\n",
      "y_pred=[0, 2, 3],\n",
      "AP@1=0.0\n",
      "\n",
      "\n",
      "y_true=[1],\n",
      "y_pred=[0, 2, 3],\n",
      "AP@2=0.0\n",
      "\n",
      "\n",
      "y_true=[1],\n",
      "y_pred=[0, 2, 3],\n",
      "AP@3=0.0\n",
      "\n",
      "\n",
      "y_true=[2, 3],\n",
      "y_pred=[2, 3, 4, 0],\n",
      "AP@1=1.0\n",
      "\n",
      "\n",
      "y_true=[2, 3],\n",
      "y_pred=[2, 3, 4, 0],\n",
      "AP@2=1.0\n",
      "\n",
      "\n",
      "y_true=[2, 3],\n",
      "y_pred=[2, 3, 4, 0],\n",
      "AP@3=1.0\n",
      "\n",
      "\n",
      "y_true=[1, 0],\n",
      "y_pred=[0, 1, 2],\n",
      "AP@1=1.0\n",
      "\n",
      "\n",
      "y_true=[1, 0],\n",
      "y_pred=[0, 1, 2],\n",
      "AP@2=1.0\n",
      "\n",
      "\n",
      "y_true=[1, 0],\n",
      "y_pred=[0, 1, 2],\n",
      "AP@3=1.0\n",
      "\n",
      "\n",
      "y_true=[],\n",
      "y_pred=[0],\n",
      "AP@1=0.0\n",
      "\n",
      "\n",
      "y_true=[],\n",
      "y_pred=[0],\n",
      "AP@2=0.0\n",
      "\n",
      "\n",
      "y_true=[],\n",
      "y_pred=[0],\n",
      "AP@3=0.0\n",
      "\n"
     ]
    }
   ],
   "source": [
    "y_true = [\n",
    "    [1, 2, 3],\n",
    "    [0, 2],\n",
    "    [1],\n",
    "    [2, 3],\n",
    "    [1, 0],\n",
    "    []\n",
    "]\n",
    "\n",
    "y_pred = [\n",
    "    [0, 1, 2],\n",
    "    [1],\n",
    "    [0, 2, 3],\n",
    "    [2, 3, 4, 0],\n",
    "    [0, 1, 2],\n",
    "    [0]\n",
    "]\n",
    "\n",
    "\n",
    "\n",
    "# Loop to print the results\n",
    "for i in range(len(y_true)):\n",
    "    for j in range(1, 4):\n",
    "        print(f\"\"\"\n",
    "y_true={y_true[i]},\n",
    "y_pred={y_pred[i]},\n",
    "AP@{j}={apk(y_true[i], y_pred[i], k=j)}\n",
    "\"\"\")\n"
   ]
  },
  {
   "cell_type": "code",
   "execution_count": 63,
   "id": "747544d4-9574-40f3-90e6-cd33465d9c9d",
   "metadata": {},
   "outputs": [],
   "source": [
    "def mapk(y_true, y_pred, k):\n",
    " \"\"\"\n",
    " This function calculates mean avg precision at k\n",
    " for a single sample\n",
    " :param y_true: list of values, actual classes\n",
    " :param y_pred: list of values, predicted classes\n",
    " :return: mean avg precision at a given value k\n",
    " \"\"\"\n",
    " # initialize empty list for apk values\n",
    " apk_values = []\n",
    " # loop over all samples\n",
    " for i in range(len(y_true)):\n",
    " # store apk values for every sample\n",
    "     apk_values.append(\n",
    "     apk(y_true[i], y_pred[i], k=k)\n",
    " )\n",
    " # return mean of apk values list\n",
    " return sum(apk_values) / len(apk_values)\n"
   ]
  },
  {
   "cell_type": "code",
   "execution_count": 65,
   "id": "de6f00ca-bb7a-4ddd-8d78-7c89ce30f502",
   "metadata": {},
   "outputs": [
    {
     "data": {
      "text/plain": [
       "0.39814814814814814"
      ]
     },
     "execution_count": 65,
     "metadata": {},
     "output_type": "execute_result"
    }
   ],
   "source": [
    " y_true = [\n",
    "[1, 2, 3],\n",
    "[0, 2],\n",
    "[1],\n",
    "[2, 3],\n",
    "[1, 0],\n",
    "[]\n",
    "]\n",
    "y_pred = [\n",
    "[0, 1, 2],\n",
    "[1],\n",
    "[0, 2, 3],\n",
    "[2, 3, 4, 0],\n",
    "[0, 1, 2],\n",
    "[0]\n",
    "]\n",
    "mapk(y_true, y_pred, k=1)\n",
    "mapk(y_true, y_pred, k=2)\n",
    "mapk(y_true, y_pred, k=3)\n",
    "mapk(y_true, y_pred, k=4)"
   ]
  },
  {
   "cell_type": "code",
   "execution_count": 66,
   "id": "f907b428-9ebb-40f2-8d5a-86409a7923a9",
   "metadata": {},
   "outputs": [],
   "source": [
    "import numpy as np\n",
    "def apk(actual, predicted, k=10):\n",
    " \"\"\"\n",
    " Computes the average precision at k.\n",
    " This function computes the AP at k between two lists of\n",
    " items.\n",
    " Parameters\n",
    " ----------\n",
    " actual : list\n",
    " A list of elements to be predicted (order doesn't matter)\n",
    " predicted : list\n",
    " A list of predicted elements (order does matter)\n",
    " k : int, optional\n",
    " The maximum number of predicted elements\n",
    " Returns\n",
    " -------\n",
    " score : double\n",
    " The average precision at k over the input lists\n",
    " \"\"\"\n",
    " if len(predicted)>k:\n",
    "     predicted = predicted[:k]\n",
    " score = 0.0\n",
    " num_hits = 0.0\n",
    " for i,p in enumerate(predicted):\n",
    "     if p in actual and p not in predicted[:i]:\n",
    "         num_hits += 1.0\n",
    "         score += num_hits / (i+1.0)\n",
    " if not actual:\n",
    "     return 0.0\n",
    " return score / min(len(actual), k)"
   ]
  },
  {
   "cell_type": "code",
   "execution_count": 67,
   "id": "4b32458e-4dcf-4444-aeab-786ac2607262",
   "metadata": {},
   "outputs": [],
   "source": [
    "import numpy as np\n",
    "def mean_absolute_error(y_true, y_pred):\n",
    " \"\"\"\n",
    " This function calculates mae\n",
    " :param y_true: list of real numbers, true values\n",
    " :param y_pred: list of real numbers, predicted values\n",
    " :return: mean absolute error\n",
    " \"\"\"\n",
    " # initialize error at 0\n",
    " error = 0\n",
    " # loop over all samples in the true and predicted list\n",
    " for yt, yp in zip(y_true, y_pred):\n",
    " # calculate absolute error\n",
    " # and add to error\n",
    "     error += np.abs(yt - yp)\n",
    " # return mean error\n",
    " return error / len(y_true)"
   ]
  },
  {
   "cell_type": "code",
   "execution_count": 68,
   "id": "07b91e21-57cb-4ec5-84fc-fa3acd7d66c0",
   "metadata": {},
   "outputs": [],
   "source": [
    "def mean_squared_error(y_true, y_pred):\n",
    " \"\"\"\n",
    " This function calculates mse\n",
    " :param y_true: list of real numbers, true values\n",
    " :param y_pred: list of real numbers, predicted values\n",
    " :return: mean squared error\n",
    " \"\"\"\n",
    " # initialize error at 0\n",
    " error = 0\n",
    " # loop over all samples in the true and predicted list\n",
    " for yt, yp in zip(y_true, y_pred):\n",
    " # calculate squared error\n",
    " # and add to error\n",
    "     error += (yt - yp) ** 2\n",
    " # return mean error\n",
    " return error / len(y_true)"
   ]
  },
  {
   "cell_type": "code",
   "execution_count": 69,
   "id": "bcb07471-1574-48e3-bd3b-559445c375be",
   "metadata": {},
   "outputs": [],
   "source": [
    "import numpy as np\n",
    "def mean_squared_log_error(y_true, y_pred):\n",
    " \"\"\"\n",
    " This function calculates msle\n",
    " :param y_true: list of real numbers, true values\n",
    " :param y_pred: list of real numbers, predicted values\n",
    " :return: mean squared logarithmic error\n",
    " \"\"\"\n",
    " # initialize error at 0\n",
    " error = 0\n",
    " # loop over all samples in true and predicted list\n",
    " for yt, yp in zip(y_true, y_pred):\n",
    " # calculate squared log error\n",
    " # and add to error\n",
    "     error += (np.log(1 + yt) - np.log(1 + yp)) ** 2\n",
    " # return mean error\n",
    " return error / len(y_true)"
   ]
  },
  {
   "cell_type": "code",
   "execution_count": 70,
   "id": "4071cfb3-da10-4ec3-b902-cd64239780c0",
   "metadata": {},
   "outputs": [],
   "source": [
    "def mean_percentage_error(y_true, y_pred):\n",
    " \"\"\"\n",
    " This function calculates mpe\n",
    " :param y_true: list of real numbers, true values\n",
    " :param y_pred: list of real numbers, predicted values\n",
    " :return: mean percentage error\n",
    " \"\"\"\n",
    " # initialize error at 0\n",
    " error = 0\n",
    " # loop over all samples in true and predicted list\n",
    " for yt, yp in zip(y_true, y_pred):\n",
    " # calculate percentage error\n",
    " # and add to error\n",
    "     error += (yt - yp) / yt\n",
    " # return mean percentage error\n",
    " return error / len(y_true)"
   ]
  },
  {
   "cell_type": "code",
   "execution_count": 71,
   "id": "cb7e6c8f-0b3e-4df6-9461-cd5e6275e69d",
   "metadata": {},
   "outputs": [],
   "source": [
    "import numpy as np\n",
    "def mean_abs_percentage_error(y_true, y_pred):\n",
    " \"\"\"\n",
    " This function calculates MAPE\n",
    " :param y_true: list of real numbers, true values\n",
    " :param y_pred: list of real numbers, predicted values\n",
    " :return: mean absolute percentage error\n",
    " \"\"\"\n",
    " # initialize error at 0\n",
    " error = 0\n",
    " # loop over all samples in true and predicted list\n",
    " for yt, yp in zip(y_true, y_pred):\n",
    " # calculate percentage error\n",
    " # and add to error\n",
    "     error += np.abs(yt - yp) / yt\n",
    " # return mean percentage error\n",
    " return error / len(y_true)"
   ]
  },
  {
   "cell_type": "code",
   "execution_count": 73,
   "id": "e017354a-0393-481c-b3f3-de23dc68594f",
   "metadata": {},
   "outputs": [],
   "source": [
    "import numpy as np\n",
    "def r2(y_true, y_pred):\n",
    " \"\"\"\n",
    " This function calculates r-squared score\n",
    " :param y_true: list of real numbers, true values\n",
    " :param y_pred: list of real numbers, predicted values\n",
    " :return: r2 score\n",
    " \"\"\"\n",
    "\n",
    " # calculate the mean value of true values\n",
    " mean_true_value = np.mean(y_true)\n",
    "\n",
    " # initialize numerator with 0\n",
    " numerator = 0\n",
    " # initialize denominator with 0\n",
    " denominator = 0\n",
    "\n",
    " # loop over all true and predicted values\n",
    " for yt, yp in zip(y_true, y_pred):\n",
    " # update numerator\n",
    "     numerator += (yt - yp) ** 2\n",
    " # update denominator\n",
    "     denominator += (yt - mean_true_value) ** 2\n",
    " # calculate the ratio\n",
    " ratio = numerator / denominator\n",
    " # return 1 - ratio\n",
    " return 1 - ratio"
   ]
  },
  {
   "cell_type": "code",
   "execution_count": 74,
   "id": "af6ab111-8cf5-4bb6-b614-086fce841538",
   "metadata": {},
   "outputs": [],
   "source": [
    "import numpy as np\n",
    "def mae_np(y_true, y_pred):\n",
    " return np.mean(np.abs(y_true - y_pred))"
   ]
  },
  {
   "cell_type": "code",
   "execution_count": 75,
   "id": "4ffc14fd-23ad-42df-8672-1f94b25762d1",
   "metadata": {},
   "outputs": [
    {
     "data": {
      "text/plain": [
       "0.4444444444444444"
      ]
     },
     "execution_count": 75,
     "metadata": {},
     "output_type": "execute_result"
    }
   ],
   "source": [
    "from sklearn import metrics\n",
    "y_true = [1, 2, 3, 1, 2, 3, 1, 2, 3]\n",
    "y_pred = [2, 1, 3, 1, 2, 3, 3, 1, 2]\n",
    "metrics.cohen_kappa_score(y_true, y_pred, weights=\"quadratic\")\n",
    "metrics.accuracy_score(y_true, y_pred)"
   ]
  },
  {
   "cell_type": "code",
   "execution_count": 77,
   "id": "6e300b88-da2b-4177-890f-ac9c43a142ac",
   "metadata": {},
   "outputs": [],
   "source": [
    "def mcc(y_true, y_pred):\n",
    " \"\"\"\n",
    " This function calculates Matthew's Correlation Coefficient\n",
    " for binary classification.\n",
    " :param y_true: list of true values\n",
    " :param y_pred: list of predicted values\n",
    " :return: mcc score\n",
    " \"\"\"\n",
    " tp = true_positive(y_true, y_pred)\n",
    " tn = true_negative(y_true, y_pred)\n",
    " fp = false_positive(y_true, y_pred)\n",
    " fn = false_negative(y_true, y_pred)\n",
    " numerator = (tp * tn) - (fp * fn)\n",
    " denominator = (\n",
    " (tp + fp) *\n",
    " (fn + tn) *\n",
    " (fp + tn) *\n",
    " (tp + fn)\n",
    " )\n",
    " denominator = denominator ** 0.5\n",
    " return numerator/denominator"
   ]
  },
  {
   "cell_type": "code",
   "execution_count": null,
   "id": "b66db45d-6d66-46cc-a32d-459a53506364",
   "metadata": {},
   "outputs": [],
   "source": []
  }
 ],
 "metadata": {
  "kernelspec": {
   "display_name": "Python 3 (ipykernel)",
   "language": "python",
   "name": "python3"
  },
  "language_info": {
   "codemirror_mode": {
    "name": "ipython",
    "version": 3
   },
   "file_extension": ".py",
   "mimetype": "text/x-python",
   "name": "python",
   "nbconvert_exporter": "python",
   "pygments_lexer": "ipython3",
   "version": "3.12.2"
  }
 },
 "nbformat": 4,
 "nbformat_minor": 5
}
